{
 "cells": [
  {
   "cell_type": "markdown",
   "id": "58c427a3-56f4-49d9-958d-e5a29599e97d",
   "metadata": {},
   "source": [
    "# Subsetting `pd.DataFrame`\n",
    "2023-10-09"
   ]
  },
  {
   "cell_type": "markdown",
   "id": "a7738bd0-8880-4d99-bb17-b4d810e346ac",
   "metadata": {},
   "source": [
    "there are *many* ways to subset a data frame.\n",
    "\n",
    "We'll review some core methods to do this\n",
    "\n",
    "\n",
    "## Our data\n",
    "We will use simplified data from the National Snow and Ice Data Center. Column descriptions:\n",
    "\n",
    "\n",
    "- **year**: calendar year\n",
    "- **europe - antarctica**: change in glacial volume (km3) in each region that year\n",
    "- **global_glacial_volume_change**: cumulative global glacial volume change (km3), starting in 1961\n",
    "- **annual_sea_level_rise**: annual rise in sea level (mm)\n",
    "- **cumulative_sea_level_rise**: cumulative rise in sea level (mm) since 1961"
   ]
  },
  {
   "cell_type": "markdown",
   "id": "76c02867-65ae-41be-a5c2-60ab0ffb2e90",
   "metadata": {},
   "source": [
    "Let's read in the data!\n"
   ]
  },
  {
   "cell_type": "code",
   "execution_count": 1,
   "id": "a2753e84-3ddc-4c9d-8059-14d10f81e920",
   "metadata": {
    "tags": []
   },
   "outputs": [],
   "source": [
    "import pandas as pd\n",
    "import numpy as np"
   ]
  },
  {
   "cell_type": "code",
   "execution_count": 4,
   "id": "dce9f7c5-61dd-4fcf-a480-93e5cf50033b",
   "metadata": {
    "tags": []
   },
   "outputs": [
    {
     "data": {
      "text/html": [
       "<div>\n",
       "<style scoped>\n",
       "    .dataframe tbody tr th:only-of-type {\n",
       "        vertical-align: middle;\n",
       "    }\n",
       "\n",
       "    .dataframe tbody tr th {\n",
       "        vertical-align: top;\n",
       "    }\n",
       "\n",
       "    .dataframe thead th {\n",
       "        text-align: right;\n",
       "    }\n",
       "</style>\n",
       "<table border=\"1\" class=\"dataframe\">\n",
       "  <thead>\n",
       "    <tr style=\"text-align: right;\">\n",
       "      <th></th>\n",
       "      <th>year</th>\n",
       "      <th>europe</th>\n",
       "      <th>arctic</th>\n",
       "      <th>alaska</th>\n",
       "      <th>asia</th>\n",
       "      <th>north_america</th>\n",
       "      <th>south_america</th>\n",
       "      <th>antarctica</th>\n",
       "      <th>global_glacial_volume_change</th>\n",
       "      <th>annual_sea_level_rise</th>\n",
       "      <th>cumulative_sea_level_rise</th>\n",
       "    </tr>\n",
       "  </thead>\n",
       "  <tbody>\n",
       "    <tr>\n",
       "      <th>0</th>\n",
       "      <td>1961</td>\n",
       "      <td>-5.128903</td>\n",
       "      <td>-108.382987</td>\n",
       "      <td>-18.721190</td>\n",
       "      <td>-32.350759</td>\n",
       "      <td>-14.359007</td>\n",
       "      <td>-4.739367</td>\n",
       "      <td>-35.116389</td>\n",
       "      <td>-220.823515</td>\n",
       "      <td>0.610010</td>\n",
       "      <td>0.610010</td>\n",
       "    </tr>\n",
       "    <tr>\n",
       "      <th>1</th>\n",
       "      <td>1962</td>\n",
       "      <td>5.576282</td>\n",
       "      <td>-173.252450</td>\n",
       "      <td>-24.324790</td>\n",
       "      <td>-4.675440</td>\n",
       "      <td>-2.161842</td>\n",
       "      <td>-13.694367</td>\n",
       "      <td>-78.222887</td>\n",
       "      <td>-514.269862</td>\n",
       "      <td>0.810625</td>\n",
       "      <td>1.420635</td>\n",
       "    </tr>\n",
       "    <tr>\n",
       "      <th>2</th>\n",
       "      <td>1963</td>\n",
       "      <td>-10.123105</td>\n",
       "      <td>-0.423751</td>\n",
       "      <td>-2.047567</td>\n",
       "      <td>-3.027298</td>\n",
       "      <td>-27.535881</td>\n",
       "      <td>3.419633</td>\n",
       "      <td>3.765109</td>\n",
       "      <td>-550.575640</td>\n",
       "      <td>0.100292</td>\n",
       "      <td>1.520927</td>\n",
       "    </tr>\n",
       "    <tr>\n",
       "      <th>3</th>\n",
       "      <td>1964</td>\n",
       "      <td>-4.508358</td>\n",
       "      <td>20.070148</td>\n",
       "      <td>0.477800</td>\n",
       "      <td>-18.675385</td>\n",
       "      <td>-2.248286</td>\n",
       "      <td>20.732633</td>\n",
       "      <td>14.853096</td>\n",
       "      <td>-519.589859</td>\n",
       "      <td>-0.085596</td>\n",
       "      <td>1.435331</td>\n",
       "    </tr>\n",
       "    <tr>\n",
       "      <th>4</th>\n",
       "      <td>1965</td>\n",
       "      <td>10.629385</td>\n",
       "      <td>43.695389</td>\n",
       "      <td>-0.115332</td>\n",
       "      <td>-18.414602</td>\n",
       "      <td>-19.398765</td>\n",
       "      <td>6.862102</td>\n",
       "      <td>22.793484</td>\n",
       "      <td>-473.112003</td>\n",
       "      <td>-0.128392</td>\n",
       "      <td>1.306939</td>\n",
       "    </tr>\n",
       "  </tbody>\n",
       "</table>\n",
       "</div>"
      ],
      "text/plain": [
       "   year     europe      arctic     alaska       asia  north_america  \\\n",
       "0  1961  -5.128903 -108.382987 -18.721190 -32.350759     -14.359007   \n",
       "1  1962   5.576282 -173.252450 -24.324790  -4.675440      -2.161842   \n",
       "2  1963 -10.123105   -0.423751  -2.047567  -3.027298     -27.535881   \n",
       "3  1964  -4.508358   20.070148   0.477800 -18.675385      -2.248286   \n",
       "4  1965  10.629385   43.695389  -0.115332 -18.414602     -19.398765   \n",
       "\n",
       "   south_america  antarctica  global_glacial_volume_change  \\\n",
       "0      -4.739367  -35.116389                   -220.823515   \n",
       "1     -13.694367  -78.222887                   -514.269862   \n",
       "2       3.419633    3.765109                   -550.575640   \n",
       "3      20.732633   14.853096                   -519.589859   \n",
       "4       6.862102   22.793484                   -473.112003   \n",
       "\n",
       "   annual_sea_level_rise  cumulative_sea_level_rise  \n",
       "0               0.610010                   0.610010  \n",
       "1               0.810625                   1.420635  \n",
       "2               0.100292                   1.520927  \n",
       "3              -0.085596                   1.435331  \n",
       "4              -0.128392                   1.306939  "
      ]
     },
     "execution_count": 4,
     "metadata": {},
     "output_type": "execute_result"
    }
   ],
   "source": [
    "# read in file\n",
    "\n",
    "df = pd.read_csv('glacial_loss.csv')\n",
    "\n",
    "# see the first 5 rows\n",
    "df.head()"
   ]
  },
  {
   "cell_type": "code",
   "execution_count": 9,
   "id": "e9651cb7-1eb6-43eb-9771-388ffab0a73e",
   "metadata": {
    "tags": []
   },
   "outputs": [
    {
     "data": {
      "text/plain": [
       "(43, 11)"
      ]
     },
     "execution_count": 9,
     "metadata": {},
     "output_type": "execute_result"
    }
   ],
   "source": [
    "# get number of rows and columns\n",
    "# 43 rows, 11 columns\n",
    "df.shape"
   ]
  },
  {
   "cell_type": "code",
   "execution_count": 5,
   "id": "be47832f-a786-46b1-9065-8b6e53db4339",
   "metadata": {
    "tags": []
   },
   "outputs": [
    {
     "data": {
      "text/plain": [
       "Index(['year', 'europe', 'arctic', 'alaska', 'asia', 'north_america',\n",
       "       'south_america', 'antarctica', 'global_glacial_volume_change',\n",
       "       'annual_sea_level_rise', 'cumulative_sea_level_rise'],\n",
       "      dtype='object')"
      ]
     },
     "execution_count": 5,
     "metadata": {},
     "output_type": "execute_result"
    }
   ],
   "source": [
    "# get column names\n",
    "\n",
    "df.columns"
   ]
  },
  {
   "cell_type": "code",
   "execution_count": 10,
   "id": "0341f3d7-572a-48ad-9f3b-b99b6f7db372",
   "metadata": {
    "tags": []
   },
   "outputs": [
    {
     "name": "stdout",
     "output_type": "stream",
     "text": [
      "<class 'pandas.core.frame.DataFrame'>\n",
      "RangeIndex: 43 entries, 0 to 42\n",
      "Data columns (total 11 columns):\n",
      " #   Column                        Non-Null Count  Dtype  \n",
      "---  ------                        --------------  -----  \n",
      " 0   year                          43 non-null     int64  \n",
      " 1   europe                        43 non-null     float64\n",
      " 2   arctic                        43 non-null     float64\n",
      " 3   alaska                        43 non-null     float64\n",
      " 4   asia                          43 non-null     float64\n",
      " 5   north_america                 43 non-null     float64\n",
      " 6   south_america                 43 non-null     float64\n",
      " 7   antarctica                    43 non-null     float64\n",
      " 8   global_glacial_volume_change  43 non-null     float64\n",
      " 9   annual_sea_level_rise         43 non-null     float64\n",
      " 10  cumulative_sea_level_rise     43 non-null     float64\n",
      "dtypes: float64(10), int64(1)\n",
      "memory usage: 3.8 KB\n"
     ]
    }
   ],
   "source": [
    "# unfo about non-null values and dtype of columns\n",
    "df.info()"
   ]
  },
  {
   "cell_type": "code",
   "execution_count": 7,
   "id": "b85b91d5-3596-4bc1-a960-376088275440",
   "metadata": {
    "tags": []
   },
   "outputs": [
    {
     "data": {
      "text/plain": [
       "year                              int64\n",
       "europe                          float64\n",
       "arctic                          float64\n",
       "alaska                          float64\n",
       "asia                            float64\n",
       "north_america                   float64\n",
       "south_america                   float64\n",
       "antarctica                      float64\n",
       "global_glacial_volume_change    float64\n",
       "annual_sea_level_rise           float64\n",
       "cumulative_sea_level_rise       float64\n",
       "dtype: object"
      ]
     },
     "execution_count": 7,
     "metadata": {},
     "output_type": "execute_result"
    }
   ],
   "source": [
    "# check the data types of each column\n",
    "\n",
    "df.dtypes"
   ]
  },
  {
   "cell_type": "markdown",
   "id": "e301f875-2575-4f38-894c-3a8f8422f518",
   "metadata": {},
   "source": [
    "# Selecting a single column...\n",
    "\n",
    "## ...by column name\n",
    "\n",
    "This is the simplest case for selecting data. Suppose we are interested in the annual sea level rise. Then we can access that single column in this way:\n",
    "\n",
    "```\n",
    "df['column_name']\n",
    "```\n",
    "\n",
    "Note: this is the same suntax for a dictionary. Remember we can think of a `pd.DataFrame` as a dictionary where the keys are the column names. \n",
    "\n",
    "\n",
    "Example: sea level rise"
   ]
  },
  {
   "cell_type": "code",
   "execution_count": 14,
   "id": "08808fe2-1449-4bd5-94c7-230525dc2e61",
   "metadata": {
    "tags": []
   },
   "outputs": [
    {
     "name": "stdout",
     "output_type": "stream",
     "text": [
      "<class 'pandas.core.series.Series'>\n"
     ]
    },
    {
     "data": {
      "text/plain": [
       "0    0.610010\n",
       "1    0.810625\n",
       "2    0.100292\n",
       "3   -0.085596\n",
       "4   -0.128392\n",
       "Name: annual_sea_level_rise, dtype: float64"
      ]
     },
     "execution_count": 14,
     "metadata": {},
     "output_type": "execute_result"
    }
   ],
   "source": [
    "# select a single column by using square brackets\n",
    "\n",
    "annual_rise = df['annual_sea_level_rise']\n",
    "\n",
    "# check the type of the output\n",
    "print(type(annual_rise))\n",
    "\n",
    "annual_rise.head()"
   ]
  },
  {
   "cell_type": "markdown",
   "id": "436c8841-aa44-4a1c-80d8-14b4db124f0d",
   "metadata": {},
   "source": [
    "Since we only selected a single column the output is a `pandas.Series`.\n",
    "\n"
   ]
  },
  {
   "cell_type": "markdown",
   "id": "283a0428-1540-4797-a039-6aedf88ae382",
   "metadata": {},
   "source": [
    "`df['column_name']` is an example of selecting **by label**\n",
    "\n",
    "\n",
    "**selecting by label**, which means we want to select data from our data frame using the *names* of the columns, not their *position*."
   ]
  },
  {
   "cell_type": "markdown",
   "id": "593542f7-46d0-4111-8049-4fe9f149239b",
   "metadata": {},
   "source": [
    "## ... with attribute syntax\n",
    "\n",
    "`df.column_name`\n"
   ]
  },
  {
   "cell_type": "code",
   "execution_count": 16,
   "id": "9368f764-6d8d-407b-8473-e56eab35de49",
   "metadata": {
    "tags": []
   },
   "outputs": [
    {
     "data": {
      "text/plain": [
       "0    0.610010\n",
       "1    0.810625\n",
       "2    0.100292\n",
       "3   -0.085596\n",
       "4   -0.128392\n",
       "Name: annual_sea_level_rise, dtype: float64"
      ]
     },
     "execution_count": 16,
     "metadata": {},
     "output_type": "execute_result"
    }
   ],
   "source": [
    "annual_rise_2 = df.annual_sea_level_rise\n",
    "annual_rise_2.head()"
   ]
  },
  {
   "cell_type": "code",
   "execution_count": 18,
   "id": "11d52987-27be-4325-8e57-d66056513d99",
   "metadata": {
    "tags": []
   },
   "outputs": [],
   "source": [
    "#df.annual_sea_level_rise"
   ]
  },
  {
   "cell_type": "markdown",
   "id": "63f50c64-f4b3-4af5-950a-864262e4612c",
   "metadata": {},
   "source": [
    "# Selecting multiple columns...\n",
    "\n",
    "\n",
    "## ... using a list of column names\n",
    "\n",
    "\n",
    "This is another example of selecting by labels. We just need to pass a list with the column names to the square brackets []. \n",
    "\n",
    "\n",
    "\n",
    "```\n",
    "df[['col_1', 'col_2', 'col_3']]\n",
    "```\n",
    "\n",
    "The list of column names `['col_1', 'col_2', etc.]` goes inside the selection brackets `[]`\n",
    "\n",
    "Notice each column name is a string. \n",
    "\n",
    "\n",
    "\n",
    "For example, say we want to look at the change in glacial volume in Europe and Asia, then we can select those columns like this:\n"
   ]
  },
  {
   "cell_type": "code",
   "execution_count": 21,
   "id": "e2453098-af46-4797-9104-ca96f8cd5b35",
   "metadata": {
    "tags": []
   },
   "outputs": [],
   "source": [
    "# select columns with names \"europe\" and \"asia\"\n",
    "\n",
    "europe_asia = df[['europe', 'asia']]\n",
    "\n",
    "# double brackets because we're passing the list ['europe', 'asia'] \n",
    "# to the selection brackets []"
   ]
  },
  {
   "cell_type": "code",
   "execution_count": 24,
   "id": "42018527-ab99-441c-9de7-b3f89a436d72",
   "metadata": {
    "tags": []
   },
   "outputs": [
    {
     "name": "stdout",
     "output_type": "stream",
     "text": [
      "<class 'pandas.core.frame.DataFrame'>\n",
      "(43, 2)\n"
     ]
    }
   ],
   "source": [
    "# check the type of the resulting selection\n",
    "print(type(europe_asia))\n",
    "\n",
    "# check the shape of the selection\n",
    "print((europe_asia.shape))\n",
    "# 43 rows, 2 columns"
   ]
  },
  {
   "cell_type": "markdown",
   "id": "dfada592-571e-4ed0-96e8-0ce4e304fb1e",
   "metadata": {},
   "source": [
    "## ... using a slice\n",
    "\n",
    "Yet another example of selecting by label! In this case we will use the `loc` selection. \n",
    "\n",
    "`loc` is short for \"locate\" :)\n",
    "\n",
    "The general syntax is:\n",
    "\n",
    "```\n",
    "df.loc[ row-selection , column-selection]\n",
    "```\n",
    "\n",
    "\n",
    "\n",
    "where `row-selection` and `column-selection` are the rows and columns we want to subset from the data frame.\n",
    "\n",
    "format for indexing:\n",
    "\n",
    "```\n",
    "df.loc[:(if we want all rows) , 'start_col_name':'stop_col_name(inclusive)']\n",
    "\n",
    "```\n",
    "\n",
    "Let’s start by a simple example, where we want to select a slice of columns, say the change in glacial volume per year in all regions. This corresponds to all columns between `europe` and `antarctica`. (arctic to antarctica in the textbook)\n"
   ]
  },
  {
   "cell_type": "code",
   "execution_count": 30,
   "id": "a509e18d-f1c5-479e-8c92-ed6dd09c83ca",
   "metadata": {
    "tags": []
   },
   "outputs": [
    {
     "name": "stdout",
     "output_type": "stream",
     "text": [
      "(43, 6)\n",
      "<class 'pandas.core.frame.DataFrame'>\n"
     ]
    },
    {
     "data": {
      "text/html": [
       "<div>\n",
       "<style scoped>\n",
       "    .dataframe tbody tr th:only-of-type {\n",
       "        vertical-align: middle;\n",
       "    }\n",
       "\n",
       "    .dataframe tbody tr th {\n",
       "        vertical-align: top;\n",
       "    }\n",
       "\n",
       "    .dataframe thead th {\n",
       "        text-align: right;\n",
       "    }\n",
       "</style>\n",
       "<table border=\"1\" class=\"dataframe\">\n",
       "  <thead>\n",
       "    <tr style=\"text-align: right;\">\n",
       "      <th></th>\n",
       "      <th>arctic</th>\n",
       "      <th>alaska</th>\n",
       "      <th>asia</th>\n",
       "      <th>north_america</th>\n",
       "      <th>south_america</th>\n",
       "      <th>antarctica</th>\n",
       "    </tr>\n",
       "  </thead>\n",
       "  <tbody>\n",
       "    <tr>\n",
       "      <th>0</th>\n",
       "      <td>-108.382987</td>\n",
       "      <td>-18.721190</td>\n",
       "      <td>-32.350759</td>\n",
       "      <td>-14.359007</td>\n",
       "      <td>-4.739367</td>\n",
       "      <td>-35.116389</td>\n",
       "    </tr>\n",
       "    <tr>\n",
       "      <th>1</th>\n",
       "      <td>-173.252450</td>\n",
       "      <td>-24.324790</td>\n",
       "      <td>-4.675440</td>\n",
       "      <td>-2.161842</td>\n",
       "      <td>-13.694367</td>\n",
       "      <td>-78.222887</td>\n",
       "    </tr>\n",
       "    <tr>\n",
       "      <th>2</th>\n",
       "      <td>-0.423751</td>\n",
       "      <td>-2.047567</td>\n",
       "      <td>-3.027298</td>\n",
       "      <td>-27.535881</td>\n",
       "      <td>3.419633</td>\n",
       "      <td>3.765109</td>\n",
       "    </tr>\n",
       "    <tr>\n",
       "      <th>3</th>\n",
       "      <td>20.070148</td>\n",
       "      <td>0.477800</td>\n",
       "      <td>-18.675385</td>\n",
       "      <td>-2.248286</td>\n",
       "      <td>20.732633</td>\n",
       "      <td>14.853096</td>\n",
       "    </tr>\n",
       "    <tr>\n",
       "      <th>4</th>\n",
       "      <td>43.695389</td>\n",
       "      <td>-0.115332</td>\n",
       "      <td>-18.414602</td>\n",
       "      <td>-19.398765</td>\n",
       "      <td>6.862102</td>\n",
       "      <td>22.793484</td>\n",
       "    </tr>\n",
       "  </tbody>\n",
       "</table>\n",
       "</div>"
      ],
      "text/plain": [
       "       arctic     alaska       asia  north_america  south_america  antarctica\n",
       "0 -108.382987 -18.721190 -32.350759     -14.359007      -4.739367  -35.116389\n",
       "1 -173.252450 -24.324790  -4.675440      -2.161842     -13.694367  -78.222887\n",
       "2   -0.423751  -2.047567  -3.027298     -27.535881       3.419633    3.765109\n",
       "3   20.070148   0.477800 -18.675385      -2.248286      20.732633   14.853096\n",
       "4   43.695389  -0.115332 -18.414602     -19.398765       6.862102   22.793484"
      ]
     },
     "execution_count": 30,
     "metadata": {},
     "output_type": "execute_result"
    }
   ],
   "source": [
    "# select all columns between 'europe' and 'antarctica'\n",
    "\n",
    "all_regions = df.loc[: , 'europe':'antarctica']\n",
    "\n",
    "\n",
    "\n",
    "print(all_regions.shape)\n",
    "\n",
    "print(type(all_regions))\n",
    "\n",
    "all_regions.head()"
   ]
  },
  {
   "cell_type": "markdown",
   "id": "b762d509-347b-431a-b9c3-3b4ee0029265",
   "metadata": {},
   "source": [
    "Notice two things:\n",
    "\n",
    "we used the colon : as the `row-selection` parameter, which means “select all the rows”\n",
    "the slice of the data frame we got includes both endpoints of the slice `europe`:`antarctica`. In other words we get the `europe` column and the `antarctica` column. This is different from how slicing works in base Python and NumPy, where the end point is not included.\n",
    "\n",
    "\n",
    "- `row-selection` = ':' colon = means select all rows\n",
    "- `column-selection`  = slice 'europe:antarctica'\n",
    "- we get both ends of the slice in the selected dataframe. This is different from slicing in base Python and NumPy, where the endpoint is not included. "
   ]
  },
  {
   "cell_type": "markdown",
   "id": "8768dde6-d25b-4dd0-b5d2-5f58281f6efb",
   "metadata": {},
   "source": [
    "### Check-in:\n",
    "\n",
    "\n",
    "select the following from `df`:\n",
    "\n",
    "- year data\n",
    "- data from Arctic, Alaska, Asia, North America\n",
    "- global change in glacial volume and cumulative sea rise"
   ]
  },
  {
   "cell_type": "code",
   "execution_count": 39,
   "id": "a1ad8bee-7f7a-42a7-b657-e2642f70a448",
   "metadata": {
    "tags": []
   },
   "outputs": [
    {
     "data": {
      "text/plain": [
       "0    1961\n",
       "1    1962\n",
       "2    1963\n",
       "3    1964\n",
       "4    1965\n",
       "Name: year, dtype: int64"
      ]
     },
     "execution_count": 39,
     "metadata": {},
     "output_type": "execute_result"
    }
   ],
   "source": [
    "# year data\n",
    "year_data = df.year\n",
    "year_data.head()"
   ]
  },
  {
   "cell_type": "code",
   "execution_count": 35,
   "id": "19cc50ed-ca7a-45b0-a946-7854a03f1b48",
   "metadata": {
    "tags": []
   },
   "outputs": [
    {
     "data": {
      "text/html": [
       "<div>\n",
       "<style scoped>\n",
       "    .dataframe tbody tr th:only-of-type {\n",
       "        vertical-align: middle;\n",
       "    }\n",
       "\n",
       "    .dataframe tbody tr th {\n",
       "        vertical-align: top;\n",
       "    }\n",
       "\n",
       "    .dataframe thead th {\n",
       "        text-align: right;\n",
       "    }\n",
       "</style>\n",
       "<table border=\"1\" class=\"dataframe\">\n",
       "  <thead>\n",
       "    <tr style=\"text-align: right;\">\n",
       "      <th></th>\n",
       "      <th>arctic</th>\n",
       "      <th>alaska</th>\n",
       "      <th>asia</th>\n",
       "      <th>north_america</th>\n",
       "    </tr>\n",
       "  </thead>\n",
       "  <tbody>\n",
       "    <tr>\n",
       "      <th>0</th>\n",
       "      <td>-108.382987</td>\n",
       "      <td>-18.721190</td>\n",
       "      <td>-32.350759</td>\n",
       "      <td>-14.359007</td>\n",
       "    </tr>\n",
       "    <tr>\n",
       "      <th>1</th>\n",
       "      <td>-173.252450</td>\n",
       "      <td>-24.324790</td>\n",
       "      <td>-4.675440</td>\n",
       "      <td>-2.161842</td>\n",
       "    </tr>\n",
       "    <tr>\n",
       "      <th>2</th>\n",
       "      <td>-0.423751</td>\n",
       "      <td>-2.047567</td>\n",
       "      <td>-3.027298</td>\n",
       "      <td>-27.535881</td>\n",
       "    </tr>\n",
       "    <tr>\n",
       "      <th>3</th>\n",
       "      <td>20.070148</td>\n",
       "      <td>0.477800</td>\n",
       "      <td>-18.675385</td>\n",
       "      <td>-2.248286</td>\n",
       "    </tr>\n",
       "    <tr>\n",
       "      <th>4</th>\n",
       "      <td>43.695389</td>\n",
       "      <td>-0.115332</td>\n",
       "      <td>-18.414602</td>\n",
       "      <td>-19.398765</td>\n",
       "    </tr>\n",
       "  </tbody>\n",
       "</table>\n",
       "</div>"
      ],
      "text/plain": [
       "       arctic     alaska       asia  north_america\n",
       "0 -108.382987 -18.721190 -32.350759     -14.359007\n",
       "1 -173.252450 -24.324790  -4.675440      -2.161842\n",
       "2   -0.423751  -2.047567  -3.027298     -27.535881\n",
       "3   20.070148   0.477800 -18.675385      -2.248286\n",
       "4   43.695389  -0.115332 -18.414602     -19.398765"
      ]
     },
     "execution_count": 35,
     "metadata": {},
     "output_type": "execute_result"
    }
   ],
   "source": [
    "# data from Arctic, Alaska, Asia, North America\n",
    "selected_regions = df.loc[: , 'arctic':'north_america']\n",
    "selected_regions.head()"
   ]
  },
  {
   "cell_type": "code",
   "execution_count": 38,
   "id": "1cf1dcd8-e3da-4819-acbe-50722113c49d",
   "metadata": {
    "tags": []
   },
   "outputs": [
    {
     "data": {
      "text/html": [
       "<div>\n",
       "<style scoped>\n",
       "    .dataframe tbody tr th:only-of-type {\n",
       "        vertical-align: middle;\n",
       "    }\n",
       "\n",
       "    .dataframe tbody tr th {\n",
       "        vertical-align: top;\n",
       "    }\n",
       "\n",
       "    .dataframe thead th {\n",
       "        text-align: right;\n",
       "    }\n",
       "</style>\n",
       "<table border=\"1\" class=\"dataframe\">\n",
       "  <thead>\n",
       "    <tr style=\"text-align: right;\">\n",
       "      <th></th>\n",
       "      <th>global_glacial_volume_change</th>\n",
       "      <th>cumulative_sea_level_rise</th>\n",
       "    </tr>\n",
       "  </thead>\n",
       "  <tbody>\n",
       "    <tr>\n",
       "      <th>0</th>\n",
       "      <td>-220.823515</td>\n",
       "      <td>0.610010</td>\n",
       "    </tr>\n",
       "    <tr>\n",
       "      <th>1</th>\n",
       "      <td>-514.269862</td>\n",
       "      <td>1.420635</td>\n",
       "    </tr>\n",
       "    <tr>\n",
       "      <th>2</th>\n",
       "      <td>-550.575640</td>\n",
       "      <td>1.520927</td>\n",
       "    </tr>\n",
       "    <tr>\n",
       "      <th>3</th>\n",
       "      <td>-519.589859</td>\n",
       "      <td>1.435331</td>\n",
       "    </tr>\n",
       "    <tr>\n",
       "      <th>4</th>\n",
       "      <td>-473.112003</td>\n",
       "      <td>1.306939</td>\n",
       "    </tr>\n",
       "  </tbody>\n",
       "</table>\n",
       "</div>"
      ],
      "text/plain": [
       "   global_glacial_volume_change  cumulative_sea_level_rise\n",
       "0                   -220.823515                   0.610010\n",
       "1                   -514.269862                   1.420635\n",
       "2                   -550.575640                   1.520927\n",
       "3                   -519.589859                   1.435331\n",
       "4                   -473.112003                   1.306939"
      ]
     },
     "execution_count": 38,
     "metadata": {},
     "output_type": "execute_result"
    }
   ],
   "source": [
    "#  global change in glacial volume and cumulative sea rise\n",
    "\n",
    "glacial_cumulative = df[['global_glacial_volume_change', 'cumulative_sea_level_rise']]\n",
    "glacial_cumulative.head()"
   ]
  },
  {
   "cell_type": "markdown",
   "id": "94c9478f-5147-46c7-99fb-3efb7b4fa116",
   "metadata": {},
   "source": [
    "# Selecting rows ...\n",
    "\n",
    "\n",
    "## ... using a condition\n",
    "\n",
    "Selecting which rows satisfy a particular condition is, in my experience, the most usual kind of row subsetting. The general syntax for this type of selection is `df[condition_on_rows]`. For example, suppose we are intersted in all data after 1996. We can select those rows in this way:"
   ]
  }
 ],
 "metadata": {
  "kernelspec": {
   "display_name": "Anaconda 3 (Base)",
   "language": "python",
   "name": "base"
  },
  "language_info": {
   "codemirror_mode": {
    "name": "ipython",
    "version": 3
   },
   "file_extension": ".py",
   "mimetype": "text/x-python",
   "name": "python",
   "nbconvert_exporter": "python",
   "pygments_lexer": "ipython3",
   "version": "3.9.13"
  }
 },
 "nbformat": 4,
 "nbformat_minor": 5
}
